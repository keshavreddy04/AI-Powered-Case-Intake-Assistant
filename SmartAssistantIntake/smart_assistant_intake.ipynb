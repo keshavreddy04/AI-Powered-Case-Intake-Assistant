{
  "nbformat": 4,
  "nbformat_minor": 0,
  "metadata": {
    "colab": {
      "provenance": []
    },
    "kernelspec": {
      "name": "python3",
      "display_name": "Python 3"
    },
    "language_info": {
      "name": "python"
    }
  },
  "cells": [
    {
      "cell_type": "code",
      "source": [
        "from google.colab import output\n",
        "output.enable_custom_widget_manager()"
      ],
      "metadata": {
        "id": "TAqPPf-K3RPd"
      },
      "execution_count": 1,
      "outputs": []
    },
    {
      "cell_type": "code",
      "source": [
        "import spacy\n",
        "from transformers import pipeline\n",
        "import ipywidgets as widgets\n",
        "from IPython.display import display, clear_output\n",
        "from datetime import datetime\n",
        "\n",
        "# Load spaCy model\n",
        "nlp = spacy.load(\"en_core_web_sm\")\n",
        "\n",
        "# AI summarizer\n",
        "summarizer = pipeline(\"summarization\", model=\"facebook/bart-base\")\n",
        "\n"
      ],
      "metadata": {
        "colab": {
          "base_uri": "https://localhost:8080/"
        },
        "id": "lWnSNAREtHGC",
        "outputId": "9e52f3ce-0700-4926-b52d-6c5b2393face"
      },
      "execution_count": 2,
      "outputs": [
        {
          "output_type": "stream",
          "name": "stderr",
          "text": [
            "/usr/local/lib/python3.12/dist-packages/huggingface_hub/utils/_auth.py:94: UserWarning: \n",
            "The secret `HF_TOKEN` does not exist in your Colab secrets.\n",
            "To authenticate with the Hugging Face Hub, create a token in your settings tab (https://huggingface.co/settings/tokens), set it as secret in your Google Colab and restart your session.\n",
            "You will be able to reuse this secret in all of your notebooks.\n",
            "Please note that authentication is recommended but still optional to access public models or datasets.\n",
            "  warnings.warn(\n",
            "Device set to use cpu\n"
          ]
        }
      ]
    },
    {
      "cell_type": "code",
      "source": [
        "keywords = [\"pain\", \"hurt\", \"injury\", \"swelling\", \"bleeding\",\n",
        "            \"knee\", \"arm\", \"back\", \"eye\", \"heart\", \"headache\", \"dizziness\"]\n",
        "\n",
        "def filter_symptom_sentences(text):\n",
        "    sentences = text.split(\".\")\n",
        "    filtered = [s for s in sentences if any(k in s.lower() for k in keywords)]\n",
        "    return \". \".join(filtered)\n"
      ],
      "metadata": {
        "id": "bXx2h53N0kLL"
      },
      "execution_count": 3,
      "outputs": []
    },
    {
      "cell_type": "code",
      "source": [
        "def summarize_text(text):\n",
        "    clean_text = text.encode('ascii', errors='ignore').decode()\n",
        "    summary = summarizer(clean_text, max_new_tokens=40, do_sample=False)\n",
        "    return summary[0]['summary_text']\n",
        "\n"
      ],
      "metadata": {
        "id": "6vm5I3BUuhFC"
      },
      "execution_count": 14,
      "outputs": []
    },
    {
      "cell_type": "code",
      "source": [
        "def extract_entities(text):\n",
        "    doc = nlp(text)\n",
        "    entities = {\"Date\": [], \"Doctor\": [], \"Hospital\": [], \"BodyPart\": []}\n",
        "\n",
        "    person_found = False\n",
        "    for ent in doc.ents:\n",
        "        if ent.label_ == \"DATE\" and \"year-old\" not in ent.text:\n",
        "            entities[\"Date\"].append(ent.text)\n",
        "        elif ent.label_ == \"PERSON\":\n",
        "            if not person_found:\n",
        "                # skip first PERSON (client)\n",
        "                person_found = True\n",
        "            else:\n",
        "                entities[\"Doctor\"].append(ent.text)\n",
        "        elif ent.label_ in [\"ORG\"]:\n",
        "            entities[\"Hospital\"].append(ent.text)\n",
        "\n",
        "    # Try manual detection for hospital name if \"hospital\" keyword present\n",
        "    if \"hospital\" in text.lower():\n",
        "        if not entities[\"Hospital\"]:\n",
        "            # Simple regex: look for \"<City> Hospital\" pattern\n",
        "            import re\n",
        "            match = re.search(r'\\b[A-Z][a-zA-Z]+\\sHospital\\b', text)\n",
        "            if match:\n",
        "                entities[\"Hospital\"].append(match.group())\n",
        "            else:\n",
        "                entities[\"Hospital\"].append(\"Unknown Hospital\")\n",
        "\n",
        "    # Detect body parts\n",
        "    body_parts = [\"knee\", \"heart\", \"eye\", \"nose\", \"back\", \"arm\", \"head\"]\n",
        "    for bp in body_parts:\n",
        "        if bp in text.lower():\n",
        "            entities[\"BodyPart\"].append(bp)\n",
        "\n",
        "    return entities\n",
        "\n"
      ],
      "metadata": {
        "id": "TTsTCSOjtjm0"
      },
      "execution_count": 13,
      "outputs": []
    },
    {
      "cell_type": "code",
      "source": [
        "def intake_assistant(client_input):\n",
        "    symptom_text = filter_symptom_sentences(client_input)\n",
        "    summary = summarize_text(symptom_text)\n",
        "\n",
        "    extracted_fields = extract_entities(client_input)\n",
        "\n",
        "    case_data = {\n",
        "        \"Cause\": \"Not auto-detected yet\",\n",
        "        \"Affected Area\": extracted_fields.get(\"BodyPart\"),\n",
        "        \"Duration\": \"Need manual entry\",\n",
        "        \"Symptoms Summary\": summary,\n",
        "        \"Doctor\": extracted_fields.get(\"Doctor\"),\n",
        "        \"Hospital\": extracted_fields.get(\"Hospital\"),\n",
        "        \"Date\": extracted_fields.get(\"Date\")\n",
        "    }\n",
        "\n",
        "    risk_flag = check_risk(case_data)\n",
        "\n",
        "    return case_data, risk_flag\n"
      ],
      "metadata": {
        "id": "zzHs9hG0urDP"
      },
      "execution_count": 6,
      "outputs": []
    },
    {
      "cell_type": "code",
      "source": [
        "# Ask user to input/paste client report\n",
        "client_text = input(\"Paste the client report here and press Enter:\\n\")\n",
        "\n",
        "# Process the report\n",
        "case_data, risk_flag = intake_assistant(client_text)\n",
        "\n",
        "# Show results\n",
        "print(\"Extracted Case Data:\")\n",
        "for key, value in case_data.items():\n",
        "    print(f\"{key}: {value}\")\n",
        "\n",
        "print(\"\\nRisk Flag:\", risk_flag)\n",
        "\n"
      ],
      "metadata": {
        "colab": {
          "base_uri": "https://localhost:8080/"
        },
        "id": "ADEaO8-JutXL",
        "outputId": "9c5c2e14-6a23-49c4-d5fc-82edd19e9fd7"
      },
      "execution_count": 18,
      "outputs": [
        {
          "name": "stdout",
          "output_type": "stream",
          "text": [
            "Paste the client report here and press Enter:\n",
            "My name is Aruna and I am a 62-year-old woman from Delhi.  On 12 August 2025, I slipped in the bathroom and hurt my right knee.  Since then, I have been feeling pain and swelling.  I tried using a knee brace and painkillers, but it still hurts when I walk.  I saw Dr. Rao at City Hospital in July.  I do not remember the exact date I started feeling pain. \n"
          ]
        },
        {
          "output_type": "stream",
          "name": "stderr",
          "text": [
            "Your max_length is set to 128, but your input_length is only 65. Since this is a summarization task, where outputs shorter than the input are typically wanted, you might consider decreasing max_length manually, e.g. summarizer('...', max_length=32)\n"
          ]
        },
        {
          "output_type": "stream",
          "name": "stdout",
          "text": [
            "Extracted Case Data:\n",
            "Cause: Not auto-detected yet\n",
            "Affected Area: ['knee']\n",
            "Duration: Need manual entry\n",
            "Symptoms Summary:   On 12 August 2025, I slipped in the bathroom and hurt my right knee.   Since then, I have been feeling pain and swelling. Â I tried using a knee brace\n",
            "Doctor: ['Rao']\n",
            "Hospital: ['City Hospital']\n",
            "Date: ['12 August 2025', 'July']\n",
            "\n",
            "Risk Flag: ✅ No immediate risk\n"
          ]
        }
      ]
    },
    {
      "cell_type": "code",
      "source": [],
      "metadata": {
        "id": "GqrH7h_L2l3U"
      },
      "execution_count": 7,
      "outputs": []
    }
  ]
}